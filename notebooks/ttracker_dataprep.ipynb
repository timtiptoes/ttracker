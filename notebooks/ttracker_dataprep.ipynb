{
 "cells": [
  {
   "cell_type": "code",
   "execution_count": 7,
   "metadata": {},
   "outputs": [],
   "source": [
    "%matplotlib inline"
   ]
  },
  {
   "cell_type": "code",
   "execution_count": 19,
   "metadata": {},
   "outputs": [],
   "source": [
    "import csv\n",
    "import pickle\n",
    "import numpy as np\n",
    "import math\n",
    "import keras\n",
    "#import pandas\n",
    "import matplotlib.pyplot as plt\n",
    "from keras.utils import *"
   ]
  },
  {
   "cell_type": "code",
   "execution_count": 20,
   "metadata": {},
   "outputs": [],
   "source": [
    "def import_file(subject):\n",
    "  #with open('PAMAP2_Dataset/Protocol/some.dat') as f:\n",
    "  with open('ttracker/data/'+str(subject)+'.txt') as f:\n",
    "    st = csv.reader(f, delimiter='\\t')\n",
    "    dataset = [ [(0 if math.isnan(float(s)) else float(s) ) for s in row] for row in st ]\n",
    "  return dataset\n",
    "\n",
    "#notes discard first and last 1000 samples"
   ]
  },
  {
   "cell_type": "code",
   "execution_count": 21,
   "metadata": {},
   "outputs": [],
   "source": [
    "d = import_file('tim_run1_labelled')"
   ]
  },
  {
   "cell_type": "markdown",
   "metadata": {},
   "source": [
    "The 54 columns in the data files are organized as follows: \n",
    "1.\ttimestamp (s) \n",
    "2.\tactivityID (see below for the mapping to the activities) \n",
    "3.\theart rate (bpm) \n",
    "4-20.\tIMU hand \n",
    "21-37.\tIMU chest \n",
    "38-54.\tIMU ankle \n",
    "\n",
    "The IMU sensory data contains the following columns: \n",
    "1.\ttemperature (Â°C) \n",
    "2-4.\t3D-acceleration data (ms-2), scale: Â±16g, resolution: 13-bit \n",
    "5-7.\t3D-acceleration data (ms-2), scale: Â±6g, resolution: 13-bit \n",
    "8-10.\t3D-gyroscope data (rad/s) \n",
    "11-13.\t3D-magnetometer data (Î¼T) \n",
    "14-17.\torientation (invalid in this data collection) \n",
    "\n",
    "List of activityIDs and corresponding activities: \n",
    "1\tlying \n",
    "2\tsitting \n",
    "3\tstanding \n",
    "4\twalking \n",
    "5\trunning \n",
    "6\tcycling \n",
    "7\tNordic walking \n",
    "9\twatching TV \n",
    "10\tcomputer work \n",
    "11\tcar driving \n",
    "12\tascending stairs \n",
    "13\tdescending stairs \n",
    "16\tvacuum cleaning \n",
    "17\tironing \n",
    "18\tfolding laundry \n",
    "19\thouse cleaning \n",
    "20\tplaying soccer \n",
    "24\trope jumping \n",
    "0\tother (transient activities)"
   ]
  },
  {
   "cell_type": "code",
   "execution_count": 22,
   "metadata": {},
   "outputs": [],
   "source": [
    "def chop_data(d, master_data, master_labels):\n",
    "    data = [dd[0:6] for dd in d]\n",
    "    labels = [dd[6] for dd in d]\n",
    "    for i in range(0, len(data)-100):\n",
    "        if(labels[i] == labels[i+99]):\n",
    "            master_data.append(data[i:i+100])\n",
    "            master_labels.append(labels[i])"
   ]
  },
  {
   "cell_type": "code",
   "execution_count": 23,
   "metadata": {},
   "outputs": [],
   "source": [
    "master_data = []\n",
    "master_labels = []\n",
    "d = import_file('tim_run1_labelled')\n",
    "chop_data(d, master_data, master_labels)"
   ]
  },
  {
   "cell_type": "code",
   "execution_count": 24,
   "metadata": {},
   "outputs": [],
   "source": [
    "master_array = np.array(master_data)\n",
    "master_categories = np.array(to_categorical(master_labels))"
   ]
  },
  {
   "cell_type": "markdown",
   "metadata": {},
   "source": [
    "master_data is a list of 12 np.arrays of shape (?, 100)\n",
    "we want a single np array of shape (?, 100)\n",
    "~Tim, I did this the trick is np.concatenate - R~"
   ]
  },
  {
   "cell_type": "code",
   "execution_count": 25,
   "metadata": {},
   "outputs": [],
   "source": [
    "\n",
    "D = {\n",
    "\"inputs\" : master_array,\n",
    "\"labels\" : master_categories\n",
    "}\n",
    "\n",
    "with open('tim_run1.pickle', 'w') as f:\n",
    "  pickle.dump(D, f)"
   ]
  },
  {
   "cell_type": "code",
   "execution_count": null,
   "metadata": {
    "collapsed": true
   },
   "outputs": [],
   "source": []
  }
 ],
 "metadata": {
  "kernelspec": {
   "display_name": "Python 2",
   "language": "python",
   "name": "python2"
  },
  "language_info": {
   "codemirror_mode": {
    "name": "ipython",
    "version": 2
   },
   "file_extension": ".py",
   "mimetype": "text/x-python",
   "name": "python",
   "nbconvert_exporter": "python",
   "pygments_lexer": "ipython2",
   "version": "2.7.12"
  }
 },
 "nbformat": 4,
 "nbformat_minor": 2
}
