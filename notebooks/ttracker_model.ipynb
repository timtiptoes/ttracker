{
 "cells": [
  {
   "cell_type": "code",
   "execution_count": null,
   "metadata": {},
   "outputs": [],
   "source": [
    "%matplotlib inline"
   ]
  },
  {
   "cell_type": "code",
   "execution_count": null,
   "metadata": {},
   "outputs": [],
   "source": []
  },
  {
   "cell_type": "code",
   "execution_count": 1,
   "metadata": {},
   "outputs": [
    {
     "name": "stderr",
     "output_type": "stream",
     "text": [
      "Using TensorFlow backend.\n"
     ]
    }
   ],
   "source": [
    "import numpy as np\n",
    "from math import sin\n",
    "from math import pi\n",
    "from math import exp\n",
    "from math import sqrt\n",
    "from random import sample\n",
    "from random import random\n",
    "from random import randint\n",
    "from random import uniform\n",
    "from numpy import array\n",
    "import matplotlib.pyplot as plt, mpld3\n",
    "from keras.models import *\n",
    "from keras.layers import *\n",
    "from keras.layers.core import *\n",
    "import keras\n",
    "from keras.utils import *\n",
    "from keras.regularizers import *\n",
    "from keras.layers.normalization import *\n",
    "import pickle\n",
    "import time\n",
    "import keras.backend as K\n",
    "import tensorflow as tf\n",
    "import h5py\n",
    "import json"
   ]
  },
  {
   "cell_type": "code",
   "execution_count": 8,
   "metadata": {},
   "outputs": [
    {
     "name": "stdout",
     "output_type": "stream",
     "text": [
      "(173108, 100, 6)\n",
      "(173108, 3)\n"
     ]
    }
   ],
   "source": [
    "with open('data_Oct_11.pickle', 'r') as f:\n",
    "  D = pickle.load(f)\n",
    "print D[\"inputs\"].shape\n",
    "print D[\"labels\"].shape\n",
    "X_vec = D[\"inputs\"]\n",
    "#y = D[\"labels\"]\n",
    "y = D[\"labels\"]"
   ]
  },
  {
   "cell_type": "code",
   "execution_count": 11,
   "metadata": {},
   "outputs": [
    {
     "name": "stdout",
     "output_type": "stream",
     "text": [
      "(196712, 100, 1)\n"
     ]
    }
   ],
   "source": [
    "X = np.array([[[xx[5]] for xx in x] for x in X_vec])\n",
    "print X.shape"
   ]
  },
  {
   "cell_type": "code",
   "execution_count": 3,
   "metadata": {},
   "outputs": [],
   "source": [
    "def random_draw(X, y, count):\n",
    "    sampl = sample(range(0, len(X)), count)\n",
    "    randX = [X[s] for s in sampl]\n",
    "    randy = [y[s] for s in sampl]\n",
    "    return np.array(randX), np.array(randy)"
   ]
  },
  {
   "cell_type": "code",
   "execution_count": 9,
   "metadata": {},
   "outputs": [],
   "source": [
    "X_test, y_test = random_draw(X_vec, y, len(X_vec))\n",
    "X_train, y_train = random_draw(X_vec, y, len(X_vec)/2)"
   ]
  },
  {
   "cell_type": "code",
   "execution_count": 6,
   "metadata": {},
   "outputs": [
    {
     "name": "stdout",
     "output_type": "stream",
     "text": [
      "100\n",
      "WARNING:tensorflow:From /home/reighley/virtualenv/local/lib/python2.7/site-packages/keras/backend/tensorflow_backend.py:1188: calling reduce_sum (from tensorflow.python.ops.math_ops) with keep_dims is deprecated and will be removed in a future version.\n",
      "Instructions for updating:\n",
      "keep_dims is deprecated, use keepdims instead\n",
      "WARNING:tensorflow:From /home/reighley/virtualenv/local/lib/python2.7/site-packages/keras/backend/tensorflow_backend.py:1290: calling reduce_mean (from tensorflow.python.ops.math_ops) with keep_dims is deprecated and will be removed in a future version.\n",
      "Instructions for updating:\n",
      "keep_dims is deprecated, use keepdims instead\n",
      "_________________________________________________________________\n",
      "Layer (type)                 Output Shape              Param #   \n",
      "=================================================================\n",
      "lstm_1 (LSTM)                (None, 40)                7520      \n",
      "_________________________________________________________________\n",
      "dense_1 (Dense)              (None, 3)                 123       \n",
      "=================================================================\n",
      "Total params: 7,643\n",
      "Trainable params: 7,643\n",
      "Non-trainable params: 0\n",
      "_________________________________________________________________\n",
      "None\n"
     ]
    }
   ],
   "source": [
    "# configure problem\n",
    "length = D[\"inputs\"].shape[1]\n",
    "print length\n",
    "# define model\n",
    "model = Sequential()\n",
    "#haircut = only_layer(52, [])\n",
    "Layer1 = LSTM(40, return_sequences=False, input_shape=(100,6))\n",
    "#LayerN = BatchNormalization(axis=2)\n",
    "#Layer2 = LSTM(200)\n",
    "#model.add(haircut)\n",
    "model.add(Layer1)\n",
    "#model.add(LayerN)\n",
    "#model.add(Layer2)\n",
    "\n",
    "model.add(Dense(3, activation='sigmoid')) \n",
    "model.compile(loss='categorical_crossentropy', optimizer='adam', metrics=['accuracy']) \n",
    "#model.compile(loss='mae', optimizer='adam')\n",
    "print(model.summary())"
   ]
  },
  {
   "cell_type": "code",
   "execution_count": null,
   "metadata": {},
   "outputs": [
    {
     "name": "stdout",
     "output_type": "stream",
     "text": [
      "Epoch 1/10\n",
      "86554/86554 [==============================] - 132s - loss: 0.5564 - acc: 0.7629   \n",
      "Epoch 2/10\n",
      "86554/86554 [==============================] - 134s - loss: 0.5413 - acc: 0.7650   \n",
      "Epoch 3/10\n",
      "86554/86554 [==============================] - 134s - loss: 0.5424 - acc: 0.7627   \n",
      "Epoch 4/10\n",
      "86554/86554 [==============================] - 133s - loss: 0.5427 - acc: 0.7624   \n",
      "Epoch 5/10\n",
      "86554/86554 [==============================] - 133s - loss: 0.5410 - acc: 0.7631   \n",
      "Epoch 6/10\n",
      "78700/86554 [==========================>...] - ETA: 12s - loss: 0.5460 - acc: 0.7596"
     ]
    }
   ],
   "source": [
    "model.fit(X_train, y_train, batch_size=100, epochs=10)\n",
    "model.evaluate(X_test, y_test)"
   ]
  },
  {
   "cell_type": "code",
   "execution_count": 24,
   "metadata": {},
   "outputs": [
    {
     "name": "stdout",
     "output_type": "stream",
     "text": [
      "(26447, 100, 6)\n",
      "(26447, 3)\n"
     ]
    }
   ],
   "source": [
    "with open('tim_run1.pickle', 'r') as f:\n",
    "  D = pickle.load(f)\n",
    "print D[\"inputs\"].shape\n",
    "print D[\"labels\"].shape\n",
    "X = D[\"inputs\"]\n",
    "#y = D[\"labels\"]\n",
    "y = D[\"labels\"]"
   ]
  },
  {
   "cell_type": "code",
   "execution_count": 12,
   "metadata": {},
   "outputs": [
    {
     "name": "stdout",
     "output_type": "stream",
     "text": [
      "173108/173108 [==============================] - 204s   \n"
     ]
    },
    {
     "data": {
      "text/plain": [
       "[0.588736944970217, 0.7244494766273079]"
      ]
     },
     "execution_count": 12,
     "metadata": {},
     "output_type": "execute_result"
    }
   ],
   "source": [
    "model.evaluate(X_vec,y)"
   ]
  },
  {
   "cell_type": "code",
   "execution_count": 97,
   "metadata": {},
   "outputs": [
    {
     "data": {
      "text/plain": [
       "['T',\n",
       " '__abs__',\n",
       " '__add__',\n",
       " '__and__',\n",
       " '__array__',\n",
       " '__array_finalize__',\n",
       " '__array_interface__',\n",
       " '__array_prepare__',\n",
       " '__array_priority__',\n",
       " '__array_struct__',\n",
       " '__array_ufunc__',\n",
       " '__array_wrap__',\n",
       " '__class__',\n",
       " '__complex__',\n",
       " '__contains__',\n",
       " '__copy__',\n",
       " '__deepcopy__',\n",
       " '__delattr__',\n",
       " '__delitem__',\n",
       " '__div__',\n",
       " '__divmod__',\n",
       " '__doc__',\n",
       " '__eq__',\n",
       " '__float__',\n",
       " '__floordiv__',\n",
       " '__format__',\n",
       " '__ge__',\n",
       " '__getattribute__',\n",
       " '__getitem__',\n",
       " '__getslice__',\n",
       " '__gt__',\n",
       " '__hash__',\n",
       " '__hex__',\n",
       " '__iadd__',\n",
       " '__iand__',\n",
       " '__idiv__',\n",
       " '__ifloordiv__',\n",
       " '__ilshift__',\n",
       " '__imod__',\n",
       " '__imul__',\n",
       " '__index__',\n",
       " '__init__',\n",
       " '__int__',\n",
       " '__invert__',\n",
       " '__ior__',\n",
       " '__ipow__',\n",
       " '__irshift__',\n",
       " '__isub__',\n",
       " '__iter__',\n",
       " '__itruediv__',\n",
       " '__ixor__',\n",
       " '__le__',\n",
       " '__len__',\n",
       " '__long__',\n",
       " '__lshift__',\n",
       " '__lt__',\n",
       " '__mod__',\n",
       " '__mul__',\n",
       " '__ne__',\n",
       " '__neg__',\n",
       " '__new__',\n",
       " '__nonzero__',\n",
       " '__oct__',\n",
       " '__or__',\n",
       " '__pos__',\n",
       " '__pow__',\n",
       " '__radd__',\n",
       " '__rand__',\n",
       " '__rdiv__',\n",
       " '__rdivmod__',\n",
       " '__reduce__',\n",
       " '__reduce_ex__',\n",
       " '__repr__',\n",
       " '__rfloordiv__',\n",
       " '__rlshift__',\n",
       " '__rmod__',\n",
       " '__rmul__',\n",
       " '__ror__',\n",
       " '__rpow__',\n",
       " '__rrshift__',\n",
       " '__rshift__',\n",
       " '__rsub__',\n",
       " '__rtruediv__',\n",
       " '__rxor__',\n",
       " '__setattr__',\n",
       " '__setitem__',\n",
       " '__setslice__',\n",
       " '__setstate__',\n",
       " '__sizeof__',\n",
       " '__str__',\n",
       " '__sub__',\n",
       " '__subclasshook__',\n",
       " '__truediv__',\n",
       " '__xor__',\n",
       " 'all',\n",
       " 'any',\n",
       " 'argmax',\n",
       " 'argmin',\n",
       " 'argpartition',\n",
       " 'argsort',\n",
       " 'astype',\n",
       " 'base',\n",
       " 'byteswap',\n",
       " 'choose',\n",
       " 'clip',\n",
       " 'compress',\n",
       " 'conj',\n",
       " 'conjugate',\n",
       " 'copy',\n",
       " 'ctypes',\n",
       " 'cumprod',\n",
       " 'cumsum',\n",
       " 'data',\n",
       " 'diagonal',\n",
       " 'dot',\n",
       " 'dtype',\n",
       " 'dump',\n",
       " 'dumps',\n",
       " 'fill',\n",
       " 'flags',\n",
       " 'flat',\n",
       " 'flatten',\n",
       " 'getfield',\n",
       " 'imag',\n",
       " 'item',\n",
       " 'itemset',\n",
       " 'itemsize',\n",
       " 'max',\n",
       " 'mean',\n",
       " 'min',\n",
       " 'nbytes',\n",
       " 'ndim',\n",
       " 'newbyteorder',\n",
       " 'nonzero',\n",
       " 'partition',\n",
       " 'prod',\n",
       " 'ptp',\n",
       " 'put',\n",
       " 'ravel',\n",
       " 'real',\n",
       " 'repeat',\n",
       " 'reshape',\n",
       " 'resize',\n",
       " 'round',\n",
       " 'searchsorted',\n",
       " 'setfield',\n",
       " 'setflags',\n",
       " 'shape',\n",
       " 'size',\n",
       " 'sort',\n",
       " 'squeeze',\n",
       " 'std',\n",
       " 'strides',\n",
       " 'sum',\n",
       " 'swapaxes',\n",
       " 'take',\n",
       " 'tobytes',\n",
       " 'tofile',\n",
       " 'tolist',\n",
       " 'tostring',\n",
       " 'trace',\n",
       " 'transpose',\n",
       " 'var',\n",
       " 'view']"
      ]
     },
     "execution_count": 97,
     "metadata": {},
     "output_type": "execute_result"
    }
   ],
   "source": [
    "dir(array([]))"
   ]
  },
  {
   "cell_type": "code",
   "execution_count": 100,
   "metadata": {},
   "outputs": [
    {
     "data": {
      "text/plain": [
       "[array([[ 0.2376852 ,  0.22917072,  0.3853431 , -0.12457241, -0.032089  ,\n",
       "          0.3139351 ,  0.3477563 ,  0.16589199, -0.15580344, -0.11688904,\n",
       "         -0.10945377, -0.08818228,  0.18713205,  0.22667466,  0.16345586,\n",
       "          0.06997898, -0.36862347,  0.29013324,  0.14726447, -0.01381193,\n",
       "          0.03391182, -0.16835868,  0.03604598,  0.34432042,  0.00470268,\n",
       "          0.59792268,  0.13847943,  0.01765759, -0.39872992,  0.05097137,\n",
       "         -0.13716115,  0.05251419, -0.1812045 , -0.01062817,  0.18115081,\n",
       "          0.03633773, -0.44062659,  0.03334064, -0.02221097,  0.00398012,\n",
       "          0.19480833,  0.18977733, -0.27744567,  0.02050686,  0.0581855 ,\n",
       "         -0.21270852, -0.09765418, -0.0679768 ,  0.34490204,  0.28014186,\n",
       "          0.12073414, -0.53092653,  0.05209085, -0.01936055, -0.2906718 ,\n",
       "         -0.08319322,  0.31744561,  0.29895347, -0.12207277, -0.01344901,\n",
       "          0.02679998,  0.15154864, -0.10796113,  0.24965683, -0.22546946,\n",
       "         -0.09418917,  0.05339177,  0.09099649,  0.26807153,  0.06948818,\n",
       "          0.49094528,  0.18531014,  0.03075997,  0.17280345,  0.22371149,\n",
       "          0.10382766, -0.3031292 , -0.38044795,  0.14972198,  0.06495645]], dtype=float32),\n",
       " array([[ 0.05182511,  0.03352726, -0.03801101, ..., -0.01365973,\n",
       "          0.23779166,  0.28347853],\n",
       "        [-0.07773239,  0.01095191, -0.21838465, ..., -0.19538552,\n",
       "          0.00539097, -0.03490409],\n",
       "        [-0.06052929,  0.01276111,  0.2701554 , ...,  0.04220132,\n",
       "         -0.16560194, -0.0830597 ],\n",
       "        ..., \n",
       "        [-0.01021265,  0.11740851, -0.18996528, ...,  0.31216303,\n",
       "          0.37623313,  0.27256024],\n",
       "        [ 0.00682735, -0.25121641,  0.11961872, ..., -0.25790718,\n",
       "         -0.17335139, -0.19603573],\n",
       "        [ 0.06377514, -0.1215193 , -0.06239691, ...,  0.23595883,\n",
       "          0.15276751,  0.09092117]], dtype=float32),\n",
       " array([  9.89739969e-02,   8.44634175e-02,  -9.64227393e-02,\n",
       "          4.10147198e-02,   1.17591418e-01,   5.63157797e-02,\n",
       "          6.50261864e-02,   3.45766768e-02,   1.40014291e-01,\n",
       "          1.76099158e-04,   4.73512225e-02,   7.48439133e-03,\n",
       "          1.79969743e-01,  -7.44876787e-02,   2.16566801e-01,\n",
       "         -2.27989107e-01,   1.20389059e-01,   1.81870028e-01,\n",
       "          1.36409298e-01,   6.24172539e-02,   1.14607346e+00,\n",
       "          1.11770296e+00,   1.17453480e+00,   1.00384057e+00,\n",
       "          1.10611737e+00,   1.08786047e+00,   1.16135025e+00,\n",
       "          1.16999912e+00,   1.09290588e+00,   1.11653340e+00,\n",
       "          1.11744738e+00,   1.15693104e+00,   1.08192182e+00,\n",
       "          1.04054844e+00,   1.06537938e+00,   1.05783284e+00,\n",
       "          1.10293484e+00,   1.15701008e+00,   1.16723979e+00,\n",
       "          1.02727306e+00,   8.51312056e-02,   6.42241985e-02,\n",
       "          6.32241666e-02,  -5.93325123e-03,  -5.44931442e-02,\n",
       "          6.64824024e-02,  -2.54162252e-02,  -8.41014162e-02,\n",
       "         -6.27321377e-02,  -9.21154246e-02,   8.88821185e-02,\n",
       "         -8.16471353e-02,  -1.00396998e-01,  -2.50867363e-02,\n",
       "         -4.96167205e-02,   1.20950751e-01,  -1.38053700e-01,\n",
       "          1.03550419e-01,  -8.60056058e-02,   8.02186355e-02,\n",
       "          2.08412871e-01,   1.77060083e-01,   1.78915352e-01,\n",
       "          8.43374282e-02,   1.51537970e-01,   1.08606387e-02,\n",
       "          1.48427039e-01,   1.56627893e-01,   1.88765600e-01,\n",
       "          1.07941091e-01,   1.17094800e-01,   3.76158506e-01,\n",
       "          2.84890234e-01,   1.34860963e-01,   1.29129335e-01,\n",
       "          7.56540969e-02,   2.35473365e-01,   1.53046668e-01,\n",
       "          1.51535437e-01,   6.96939602e-02], dtype=float32),\n",
       " array([[-1.24783301, -0.06480902, -0.63053703],\n",
       "        [-0.39666057, -0.2025294 ,  0.31281847],\n",
       "        [ 0.71959919,  0.94824117, -0.77359587],\n",
       "        [-0.22278   ,  0.95475656, -1.09962285],\n",
       "        [ 0.42652017,  0.44978377, -1.09665608],\n",
       "        [-0.05026963,  0.15522896,  0.11432793],\n",
       "        [ 1.27427351,  0.74204177,  0.17012927],\n",
       "        [ 0.97297424,  0.44719058,  0.3451165 ],\n",
       "        [ 0.56163043, -0.71758729,  0.26099619],\n",
       "        [-0.99994963, -0.5667817 ,  0.09439618],\n",
       "        [-0.36313924,  0.64907271,  0.12863068],\n",
       "        [ 0.65237713,  0.21952617,  0.18884973],\n",
       "        [ 0.33736035, -1.16376817,  0.9340511 ],\n",
       "        [ 0.15624036, -1.04128563,  0.84306687],\n",
       "        [ 0.38125139,  0.20003049,  0.53430551],\n",
       "        [-0.30157584, -0.26844975,  0.91511798],\n",
       "        [ 0.88960195, -0.09468559,  0.62127876],\n",
       "        [-0.94958514, -0.06391275, -0.3629021 ],\n",
       "        [ 1.22508669, -0.33875206,  0.55665958],\n",
       "        [-1.100734  ,  0.12678185, -0.31006709]], dtype=float32),\n",
       " array([-0.43131658, -0.09337058, -0.30061007], dtype=float32)]"
      ]
     },
     "execution_count": 100,
     "metadata": {},
     "output_type": "execute_result"
    }
   ],
   "source": [
    "w=model.get_weights()\n",
    "w"
   ]
  },
  {
   "cell_type": "code",
   "execution_count": 101,
   "metadata": {},
   "outputs": [],
   "source": [
    "stuff_to_save={'weight':[w.tolist() for w in model.get_weights()],'arch':model.to_json()}\n",
    "json.dump(stuff_to_save,open(\"ttracker.model\",'w'))\n"
   ]
  },
  {
   "cell_type": "code",
   "execution_count": 90,
   "metadata": {},
   "outputs": [],
   "source": []
  },
  {
   "cell_type": "code",
   "execution_count": 26,
   "metadata": {},
   "outputs": [
    {
     "name": "stdout",
     "output_type": "stream",
     "text": [
      "Epoch 1/4\n",
      "26447/26447 [==============================] - 146s - loss: 0.1934 - acc: 0.9258   \n",
      "Epoch 2/4\n",
      "26447/26447 [==============================] - 146s - loss: 0.0565 - acc: 0.9798   \n",
      "Epoch 3/4\n",
      "26447/26447 [==============================] - 146s - loss: 0.0322 - acc: 0.9895   \n",
      "Epoch 4/4\n",
      "26447/26447 [==============================] - 146s - loss: 0.0205 - acc: 0.9930   \n"
     ]
    },
    {
     "data": {
      "text/plain": [
       "<keras.callbacks.History at 0x7fa90eb52050>"
      ]
     },
     "execution_count": 26,
     "metadata": {},
     "output_type": "execute_result"
    }
   ],
   "source": [
    "model.fit(X, y, batch_size=100, epochs=4)"
   ]
  },
  {
   "cell_type": "code",
   "execution_count": null,
   "metadata": {},
   "outputs": [],
   "source": []
  },
  {
   "cell_type": "code",
   "execution_count": 28,
   "metadata": {},
   "outputs": [
    {
     "name": "stdout",
     "output_type": "stream",
     "text": [
      "30074/30074 [==============================] - 73s    \n"
     ]
    },
    {
     "data": {
      "text/plain": [
       "[1.8545232226707491, 0.62056926248586819]"
      ]
     },
     "execution_count": 28,
     "metadata": {},
     "output_type": "execute_result"
    }
   ],
   "source": [
    "model.evaluate(X,y)"
   ]
  },
  {
   "cell_type": "markdown",
   "metadata": {},
   "source": [
    "### What is this abomination?\n",
    "#### We are looking at just 1 input from the coarse accelrometer, probably the z\n",
    "#### We simplified the network to hae just one LSTM layer with no Batchnormalization\n",
    "#### We reduced the number of internal states to 10 down from 200 (we tried with 6 but that was not enough)\n"
   ]
  }
 ],
 "metadata": {
  "kernelspec": {
   "display_name": "Python 2",
   "language": "python",
   "name": "python2"
  },
  "language_info": {
   "codemirror_mode": {
    "name": "ipython",
    "version": 2
   },
   "file_extension": ".py",
   "mimetype": "text/x-python",
   "name": "python",
   "nbconvert_exporter": "python",
   "pygments_lexer": "ipython2",
   "version": "2.7.12"
  }
 },
 "nbformat": 4,
 "nbformat_minor": 2
}
